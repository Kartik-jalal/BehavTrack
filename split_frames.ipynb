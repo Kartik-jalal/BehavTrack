{
 "cells": [
  {
   "cell_type": "markdown",
   "metadata": {},
   "source": [
    "# Libraries"
   ]
  },
  {
   "cell_type": "code",
   "execution_count": 1,
   "metadata": {},
   "outputs": [],
   "source": [
    "import os\n",
    "import shutil\n",
    "import json\n",
    "from sklearn.model_selection import train_test_split\n",
    "from collections import Counter"
   ]
  },
  {
   "cell_type": "markdown",
   "metadata": {},
   "source": [
    "# Helper Functions"
   ]
  },
  {
   "cell_type": "code",
   "execution_count": 2,
   "metadata": {},
   "outputs": [],
   "source": [
    "def load_metadata(source_dir, metadata_filename):\n",
    "    metadata_filePath = os.path.join(source_dir, metadata_filename)\n",
    "\n",
    "    with open(metadata_filePath, 'r') as f:\n",
    "        return json.load(f)"
   ]
  },
  {
   "cell_type": "code",
   "execution_count": 3,
   "metadata": {},
   "outputs": [],
   "source": [
    "def save_metadata(output_dir, metadata_filename, metadata):\n",
    "    metadata_outFilePath = os.path.join(output_dir, metadata_filename)\n",
    "\n",
    "    with open(metadata_outFilePath, 'w') as f:\n",
    "        json.dump(metadata, f, indent=4)"
   ]
  },
  {
   "cell_type": "code",
   "execution_count": 4,
   "metadata": {},
   "outputs": [],
   "source": [
    "def performSplit(metadata, split_ratio):\n",
    "    clusters = [entry['cluster'] for entry in metadata]\n",
    "    \n",
    "    activeLearning_data, prediction_data = train_test_split(\n",
    "        metadata,\n",
    "        test_size=split_ratio,\n",
    "        random_state=42,\n",
    "        stratify=clusters  # stratify \n",
    "        )\n",
    "    \n",
    "    return activeLearning_data, prediction_data"
   ]
  },
  {
   "cell_type": "code",
   "execution_count": 5,
   "metadata": {},
   "outputs": [],
   "source": [
    "def copyframes(split):\n",
    "    # destination path for the split frame\n",
    "    out_path = os.path.join(split[2][1], split[0][0])\n",
    "    os.makedirs(out_path, exist_ok=True)\n",
    "    # save the metadata at the output\n",
    "    save_metadata(out_path, split[0][1], split[1][0])\n",
    "\n",
    "    if split[1][1]:\n",
    "        for data in split[1][0]:\n",
    "            frame_name = os.path.basename(data['image_path'])\n",
    "            # src frame path\n",
    "            src_framePath = os.path.join(split[2][0], frame_name)\n",
    "            out_framePath = os.path.join(out_path, frame_name)\n",
    "            # copy\n",
    "            shutil.copy2(src_framePath, out_framePath)\n",
    "\n",
    "    print(f\"Copy complete for the split {split[0][1]} with images - {split[1][1]}\")"
   ]
  },
  {
   "cell_type": "code",
   "execution_count": 6,
   "metadata": {},
   "outputs": [],
   "source": [
    "def getCluster_ratio(data):\n",
    "    # Count the number of frames per cluster\n",
    "    cluster_counts = Counter(entry['cluster'] for entry in data)\n",
    "    # Calculate total number of frames\n",
    "    total_frames = len(data)\n",
    "    # Print cluster percentages\n",
    "    for cluster_id, count in cluster_counts.items():\n",
    "        percentage = (count / total_frames) * 100\n",
    "        print(f\"Cluster {cluster_id}: {count} frames ({percentage:.2f}%)\")"
   ]
  },
  {
   "cell_type": "code",
   "execution_count": 7,
   "metadata": {},
   "outputs": [],
   "source": [
    "def printDetails(metadata, split_data):\n",
    "    print(\"#############\")\n",
    "    print(f\"Total frames: {len(metadata)}\")\n",
    "    getCluster_ratio(metadata)\n",
    "    print(\"\\t#############\")\n",
    "    for split in split_data:\n",
    "        percentage = (len(split[1][0])/len(metadata))*100\n",
    "        print(f\"{split[0][1]} split: {len(split[1][0])} ({percentage:.2f}%)\")\n",
    "        getCluster_ratio(split[1][0])\n",
    "        print(\"\\t#############\")\n"
   ]
  },
  {
   "cell_type": "code",
   "execution_count": 8,
   "metadata": {},
   "outputs": [],
   "source": [
    "def perform_activeLearning_split(metedata, split_ratio):\n",
    "    clusters = [entry['cluster'] for entry in metedata]\n",
    "\n",
    "    # split train data\n",
    "    train_data, temp_data = train_test_split(\n",
    "        metedata,\n",
    "        test_size=(1.0 - split_ratio[0]),\n",
    "        random_state=42,\n",
    "        stratify=clusters  # stratify \n",
    "        )\n",
    "    \n",
    "    # remaining data\n",
    "    temp_clusters = [entry['cluster'] for entry in temp_data]\n",
    "\n",
    "    # Proportion of the leftover data that should go into test\n",
    "    test_ratio_adjusted = split_ratio[2] / (split_ratio[1] + split_ratio[2])\n",
    "\n",
    "    val_data, test_data = train_test_split(\n",
    "        temp_data,\n",
    "        test_size=test_ratio_adjusted,\n",
    "        random_state=42,\n",
    "        stratify=temp_clusters\n",
    "    )\n",
    "\n",
    "    return train_data, val_data, test_data\n"
   ]
  },
  {
   "cell_type": "markdown",
   "metadata": {},
   "source": [
    "# Main()"
   ]
  },
  {
   "cell_type": "markdown",
   "metadata": {},
   "source": [
    "### Active learning and test split"
   ]
  },
  {
   "cell_type": "code",
   "execution_count": 9,
   "metadata": {},
   "outputs": [
    {
     "name": "stdout",
     "output_type": "stream",
     "text": [
      "#############\n",
      "Total frames: 1300\n",
      "Cluster 1: 285 frames (21.92%)\n",
      "Cluster 0: 742 frames (57.08%)\n",
      "Cluster 2: 273 frames (21.00%)\n",
      "\t#############\n",
      "activeLearning.json split: 1105 (85.00%)\n",
      "Cluster 0: 631 frames (57.10%)\n",
      "Cluster 1: 242 frames (21.90%)\n",
      "Cluster 2: 232 frames (21.00%)\n",
      "\t#############\n",
      "test.json split: 195 (15.00%)\n",
      "Cluster 0: 111 frames (56.92%)\n",
      "Cluster 1: 43 frames (22.05%)\n",
      "Cluster 2: 41 frames (21.03%)\n",
      "\t#############\n",
      "Copy complete for the split activeLearning.json with images - False\n",
      "Copy complete for the split test.json with images - True\n"
     ]
    }
   ],
   "source": [
    "# dirs' path\n",
    "source_dir = \"/mnt/c/Users/karti/chest/CNR/projects/data/neurocig/frames\"\n",
    "output_dir = \"/mnt/c/Users/karti/chest/CNR/projects/data/neurocig/stratifySplit_frames\"\n",
    "metadata_filename_main = \"frames_info.json\"\n",
    "\n",
    "# load the frames metadata\n",
    "metadata_main = load_metadata(source_dir, metadata_filename_main)\n",
    "\n",
    "# Initial Split Percentages [active learning - 85, test - 15]\n",
    "split_ratio_main = 0.15\n",
    "\n",
    "# perform intial split\n",
    "activeLearning_data, test_data = performSplit(metadata_main, split_ratio_main)\n",
    "split_data_main = [(\n",
    "        ('activeLearning', 'activeLearning.json'),\n",
    "        (activeLearning_data, False),\n",
    "        (source_dir, output_dir)\n",
    "    ),\n",
    "    (\n",
    "        ('test', 'test.json'),\n",
    "        (test_data, True),\n",
    "        (source_dir, output_dir)\n",
    "    )]\n",
    "\n",
    "printDetails(metadata_main, split_data_main)\n",
    "\n",
    "# copy the frames to their appropriate dirs\n",
    "for split in split_data_main:\n",
    "    copyframes(split)"
   ]
  },
  {
   "cell_type": "markdown",
   "metadata": {},
   "source": [
    "### Inital split"
   ]
  },
  {
   "cell_type": "code",
   "execution_count": 10,
   "metadata": {},
   "outputs": [
    {
     "name": "stdout",
     "output_type": "stream",
     "text": [
      "#############\n",
      "Total frames: 1105\n",
      "Cluster 0: 631 frames (57.10%)\n",
      "Cluster 1: 242 frames (21.90%)\n",
      "Cluster 2: 232 frames (21.00%)\n",
      "\t#############\n",
      "activeLearning.json split: 1055 (95.48%)\n",
      "Cluster 0: 602 frames (57.06%)\n",
      "Cluster 1: 231 frames (21.90%)\n",
      "Cluster 2: 222 frames (21.04%)\n",
      "\t#############\n",
      "annotations_metadataAL.json split: 50 (4.52%)\n",
      "Cluster 1: 11 frames (22.00%)\n",
      "Cluster 0: 29 frames (58.00%)\n",
      "Cluster 2: 10 frames (20.00%)\n",
      "\t#############\n"
     ]
    }
   ],
   "source": [
    "activeLearning_dir = \"/mnt/c/Users/karti/chest/CNR/projects/data/neurocig/stratifySplit_frames/activeLearning\"\n",
    "metadata_filename_al = \"activeLearning.json\"\n",
    "\n",
    "# number of initial frames of manuel annotation\n",
    "intialN_annotatonData = 50\n",
    "\n",
    "# load the active learning frames metadata\n",
    "activeLearning_metadata = load_metadata(activeLearning_dir, metadata_filename_al)\n",
    "\n",
    "# calculate the split ratio respective to intialN_annotatonData\n",
    "split_ratio_aL = round(((intialN_annotatonData/len(activeLearning_metadata))*100)/100, 3)\n",
    "\n",
    "# annotation split\n",
    "activeLearning_metadata_new, annotation_metadata = performSplit(activeLearning_metadata, split_ratio_aL)\n",
    "\n",
    "split_data_aL = (\n",
    "        ('activeLearning', 'activeLearning.json'),\n",
    "        (activeLearning_metadata_new, False),\n",
    "        (source_dir, output_dir)\n",
    "    )\n",
    "    \n",
    "split_data_annotations =   (\n",
    "        ('annotations', 'annotations_metadataAL.json'),\n",
    "        (annotation_metadata, True),\n",
    "        (source_dir, activeLearning_dir)\n",
    "    )\n",
    "\n",
    "printDetails(activeLearning_metadata, [split_data_aL, split_data_annotations])\n"
   ]
  },
  {
   "cell_type": "code",
   "execution_count": 11,
   "metadata": {},
   "outputs": [
    {
     "name": "stdout",
     "output_type": "stream",
     "text": [
      "#############\n",
      "Total frames: 1055\n",
      "Cluster 0: 602 frames (57.06%)\n",
      "Cluster 1: 231 frames (21.90%)\n",
      "Cluster 2: 222 frames (21.04%)\n",
      "\t#############\n",
      "activeLearning.json split: 1040 (98.58%)\n",
      "Cluster 1: 228 frames (21.92%)\n",
      "Cluster 0: 593 frames (57.02%)\n",
      "Cluster 2: 219 frames (21.06%)\n",
      "\t#############\n",
      "predict.json split: 15 (1.42%)\n",
      "Cluster 0: 9 frames (60.00%)\n",
      "Cluster 2: 3 frames (20.00%)\n",
      "Cluster 1: 3 frames (20.00%)\n",
      "\t#############\n"
     ]
    }
   ],
   "source": [
    "prediction_percentage = 30\n",
    "nOf_annotations = float((30*len(annotation_metadata))/100)\n",
    "split_ratio_predict = round(((nOf_annotations/len(activeLearning_metadata_new))*100)/100, 3)\n",
    "\n",
    "# annotation split\n",
    "activeLearning_metadata_updated, predict_metadata = performSplit(activeLearning_metadata_new, split_ratio_predict)\n",
    "\n",
    "split_data_aL = (\n",
    "        ('activeLearning', 'activeLearning.json'),\n",
    "        (activeLearning_metadata_updated, False),\n",
    "        (source_dir, output_dir)\n",
    "    )\n",
    "    \n",
    "split_data_predict =   (\n",
    "        ('predict', 'predict.json'),\n",
    "        (predict_metadata, True),\n",
    "        (source_dir, activeLearning_dir)\n",
    "    )\n",
    "\n",
    "printDetails(activeLearning_metadata_new, [split_data_aL, split_data_predict])"
   ]
  },
  {
   "cell_type": "code",
   "execution_count": null,
   "metadata": {},
   "outputs": [
    {
     "name": "stdout",
     "output_type": "stream",
     "text": [
      "#############\n",
      "Total frames: 50\n",
      "Cluster 1: 11 frames (22.00%)\n",
      "Cluster 0: 29 frames (58.00%)\n",
      "Cluster 2: 10 frames (20.00%)\n",
      "\t#############\n",
      "train.json split: 42 (84.00%)\n",
      "Cluster 0: 24 frames (57.14%)\n",
      "Cluster 1: 9 frames (21.43%)\n",
      "Cluster 2: 9 frames (21.43%)\n",
      "\t#############\n",
      "val.json split: 8 (16.00%)\n",
      "Cluster 0: 5 frames (62.50%)\n",
      "Cluster 1: 2 frames (25.00%)\n",
      "Cluster 2: 1 frames (12.50%)\n",
      "\t#############\n"
     ]
    }
   ],
   "source": [
    "split_ratio_annotation = 0.15\n",
    "\n",
    "# train val split\n",
    "train_metadata, val_metadata = performSplit(annotation_metadata, split_ratio_annotation)\n",
    "\n",
    "split_data_train = (\n",
    "        ('test', 'train.json'),\n",
    "        (train_metadata, True),\n",
    "        (source_dir, activeLearning_dir)\n",
    "    )\n",
    "    \n",
    "split_data_val =   (\n",
    "        ('val', 'val.json'),\n",
    "        (val_metadata, True),\n",
    "        (source_dir, activeLearning_dir)\n",
    "    )\n",
    "\n",
    "printDetails(annotation_metadata, [split_data_train, split_data_val])"
   ]
  },
  {
   "cell_type": "code",
   "execution_count": 13,
   "metadata": {},
   "outputs": [
    {
     "name": "stdout",
     "output_type": "stream",
     "text": [
      "Copy complete for the split activeLearning.json with images - False\n",
      "Copy complete for the split annotations_metadataAL.json with images - True\n",
      "Copy complete for the split train.json with images - False\n",
      "Copy complete for the split val.json with images - False\n",
      "Copy complete for the split predict.json with images - True\n"
     ]
    }
   ],
   "source": [
    "split_data_is = [split_data_aL, split_data_annotations, split_data_train, split_data_val, split_data_predict]\n",
    "\n",
    "for split in split_data_is:\n",
    "    copyframes(split)"
   ]
  },
  {
   "cell_type": "markdown",
   "metadata": {},
   "source": [
    "### Active learning split"
   ]
  },
  {
   "cell_type": "code",
   "execution_count": null,
   "metadata": {},
   "outputs": [],
   "source": []
  }
 ],
 "metadata": {
  "kernelspec": {
   "display_name": "BehavTrack",
   "language": "python",
   "name": "python3"
  },
  "language_info": {
   "codemirror_mode": {
    "name": "ipython",
    "version": 3
   },
   "file_extension": ".py",
   "mimetype": "text/x-python",
   "name": "python",
   "nbconvert_exporter": "python",
   "pygments_lexer": "ipython3",
   "version": "3.10.16"
  }
 },
 "nbformat": 4,
 "nbformat_minor": 2
}
