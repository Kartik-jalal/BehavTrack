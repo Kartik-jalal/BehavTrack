{
 "cells": [
  {
   "cell_type": "markdown",
   "metadata": {},
   "source": [
    "# Libraries"
   ]
  },
  {
   "cell_type": "code",
   "execution_count": null,
   "metadata": {},
   "outputs": [],
   "source": [
    "import os\n",
    "import sys\n",
    "import shutil\n",
    "import ffmpeg\n",
    "from ffprobe import FFProbe"
   ]
  },
  {
   "cell_type": "markdown",
   "metadata": {},
   "source": [
    "# Helper functions"
   ]
  },
  {
   "cell_type": "code",
   "execution_count": null,
   "metadata": {},
   "outputs": [],
   "source": [
    "def copy_videos(source_dir, destination_dir, overwrite=True):\n",
    "    \"\"\"Copy 'pre' eCig and Cig videos from source directory to destination directory.\"\"\"\n",
    "    os.makedirs(destination_dir, exist_ok=True)\n",
    "\n",
    "    # Initialize counters\n",
    "    cig = 0\n",
    "    eCig = 0\n",
    "    aria = 0\n",
    "    total = 0\n",
    "\n",
    "    print(\"Copying eCig, Cig 'pre' and aria videos.\")\n",
    "\n",
    "    # Validate if source directory exists\n",
    "    if not os.path.exists(source_dir):\n",
    "        print(f\"Error: Source directory '{source_dir}' does not exist.\")\n",
    "        return\n",
    "\n",
    "    # Get existing files in the destination directory (for faster lookup)\n",
    "    existing_files = set(os.listdir(destination_dir))\n",
    "\n",
    "    # Iterate over files in the source directory\n",
    "    for video_file in os.listdir(source_dir):\n",
    "        full_source_path = os.path.join(source_dir, video_file)\n",
    "\n",
    "        # Count total .mp4 files\n",
    "        if video_file.endswith(\".mp4\"):\n",
    "            total += 1\n",
    "        else:\n",
    "            continue\n",
    "\n",
    "        # Skip if the file already exists in the destination and `overwrite` is False\n",
    "        if not(overwrite) and (video_file in existing_files):\n",
    "            continue\n",
    "        \n",
    "        \n",
    "        if \"aria\" in video_file.lower():\n",
    "            aria += 1\n",
    "        elif \"pre\" in video_file.lower():\n",
    "            if \"ecig\" in video_file.lower():\n",
    "                eCig += 1\n",
    "            elif \"cig\" in  video_file.lower():\n",
    "                cig += 1\n",
    "        else:\n",
    "            continue\n",
    "\n",
    "        # Copy file to the destination directory\n",
    "        shutil.copy(full_source_path, destination_dir)\n",
    "\n",
    "    print(f\"Copy complete!\\n\\t eCig pre: {eCig}, Cig pre: {cig} and aria: {aria}. Total: {eCig + cig + aria} out of {total}\")\n"
   ]
  },
  {
   "cell_type": "code",
   "execution_count": null,
   "metadata": {},
   "outputs": [],
   "source": [
    "def get_video_resolution(filename):\n",
    "    \"\"\"\n",
    "    Returns (width, height) for the first video stream found in `filename`.\n",
    "    \"\"\"\n",
    "    metadata = FFProbe(filename)\n",
    "    for stream in metadata.streams:\n",
    "        if stream.is_video():\n",
    "            print(dir(stream))\n",
    "            return (int(stream.width), int(stream.height))\n",
    "        \n",
    "    return (None, None)"
   ]
  },
  {
   "cell_type": "code",
   "execution_count": null,
   "metadata": {},
   "outputs": [],
   "source": [
    "def get_frame_rate(filename):\n",
    "    metadata = FFProbe(filename)\n",
    "    for stream in metadata.streams:\n",
    "        if stream.is_video():\n",
    "            return int(stream.framerate)\n",
    "        \n",
    "    return None"
   ]
  },
  {
   "cell_type": "code",
   "execution_count": null,
   "metadata": {},
   "outputs": [],
   "source": [
    "def get_video_duration(source_dir, video_file):\n",
    "    \"\"\"\n",
    "    Returns (width, height) for the first video stream found in `filename`.\n",
    "    \"\"\"\n",
    "    filename = os.path.join(source_dir, video_file)\n",
    "\n",
    "    metadata = FFProbe(filename)\n",
    "    for stream in metadata.streams:\n",
    "        if stream.is_video():\n",
    "            return float(stream.duration)\n",
    "    return None"
   ]
  },
  {
   "cell_type": "code",
   "execution_count": null,
   "metadata": {},
   "outputs": [],
   "source": [
    "def process_video(source_dir, output_dir, video_file, overwrite=True, duration=900,  fps=15, w='iw', h='ih'):\n",
    "    \"\"\"Trim video, apply uniform gamma correction and brightness adjustment, convert to grayscale.\"\"\"\n",
    "    # Define input and output paths\n",
    "    input_path = os.path.join(source_dir, video_file)\n",
    "    output_path = os.path.join(output_dir, video_file)\n",
    "\n",
    "    # Check if file already exists and skip if overwrite is False\n",
    "    if not overwrite and os.path.exists(output_path):\n",
    "        print(f\"Skipping {video_file}: already exists in {output_dir}.\")\n",
    "        return\n",
    "\n",
    "    try:\n",
    "        # Apply gamma correction, brightness, contrast adjustments, and convert to grayscale\n",
    "        print(\"\\tApplying gamma correction, brightness normalization, and converting to grayscale.\")\n",
    "        (\n",
    "            ffmpeg\n",
    "            .input(input_path, t=duration, hwaccel=\"cuda\")  # Trim video to specified duration and hardware acceleration using the gpu\n",
    "            .filter('format', 'gray')  # convert video to grayscale\n",
    "            .filter('eq', gamma=1.8, brightness=0.17, contrast=1.3)  # EQ Adjustments\n",
    "            .filter('scale', w,  h, flags='lanczos')  # Clamp pixel values\n",
    "            .output(output_path, vcodec=\"hevc_nvenc\", r=fps)  # nvidia vcodec\n",
    "            .run(overwrite_output=True)\n",
    "        )\n",
    "        print(f\"\\tProcessing completed -> {output_path}\")\n",
    "\n",
    "    except ffmpeg.Error as e:\n",
    "        print(f\"Error processing {video_file}: {e.stderr.decode()}\")\n",
    "    except Exception as e:\n",
    "        print(f\"Unexpected error processing {video_file}: {e}\")"
   ]
  },
  {
   "cell_type": "markdown",
   "metadata": {},
   "source": [
    "# Data Gathering & Video Preprocessing"
   ]
  },
  {
   "cell_type": "code",
   "execution_count": null,
   "metadata": {},
   "outputs": [],
   "source": [
    "# Copy the right videos from the source directory\n",
    "source_dir = \"/mnt/olimpo1/neurocig/data\"\n",
    "destination_dir = \"/home/jalal/projects/data/neurocig/vids/raw\"\n",
    "\n",
    "copy_videos(source_dir, destination_dir, overwrite=False)"
   ]
  },
  {
   "cell_type": "code",
   "execution_count": null,
   "metadata": {},
   "outputs": [],
   "source": [
    "source_dir = \"/mnt/c/Users/karti/chest/CNR/projects/nurocig/data/vids\""
   ]
  },
  {
   "cell_type": "code",
   "execution_count": null,
   "metadata": {},
   "outputs": [],
   "source": [
    "min_w = sys.maxsize\n",
    "min_h = sys.maxsize\n",
    "\n",
    "max_w = -sys.maxsize - 1\n",
    "max_h = -sys.maxsize - 1\n",
    "\n",
    "for video_file in os.listdir(source_dir):\n",
    "    video_path = os.path.join(source_dir, video_file)\n",
    "\n",
    "    w, h = get_video_resolution(video_path)\n",
    "    min_w = min(min_w, w)\n",
    "    min_h = min(min_h, h)\n",
    "\n",
    "    max_w = max(max_w, w)\n",
    "    max_h = max(max_h, h)\n",
    "\n",
    "\n",
    "print(f\"The minimun resolution is {min_w}x{min_h} and the maximum resolution is {max_w}x{max_h}.\")"
   ]
  },
  {
   "cell_type": "code",
   "execution_count": null,
   "metadata": {},
   "outputs": [],
   "source": [
    "min_fps = sys.maxsize\n",
    "max_fps = -sys.maxsize - 1\n",
    "\n",
    "for video_file in os.listdir(source_dir):\n",
    "    video_path = os.path.join(source_dir, video_file)\n",
    "    fps = get_frame_rate(video_path)\n",
    "\n",
    "    min_fps = min(min_fps, fps)\n",
    "    max_fps = max(max_fps, fps)\n",
    "\n",
    "print(f\"The maximum fps is {max_fps} and the minimum fps is {min_fps}\")"
   ]
  },
  {
   "cell_type": "code",
   "execution_count": null,
   "metadata": {},
   "outputs": [],
   "source": [
    "path = \"/home/jalal/projects/data/neurocig/vids/raw/Gabbia1-D11-aria(1)-pre.mp4\"\n",
    "\n",
    "print(get_video_duration(path))"
   ]
  },
  {
   "cell_type": "code",
   "execution_count": null,
   "metadata": {},
   "outputs": [],
   "source": [
    "output_dir = \"/mnt/c/Users/karti/chest/CNR/projects/nurocig/data/test\"\n",
    "os.makedirs(output_dir, exist_ok=True)\n",
    "\n",
    "overwrite = True\n",
    "for_infernece = False\n",
    "for video_file in os.listdir(source_dir):\n",
    "    if video_file.endswith('.mp4'):\n",
    "        duration = 900\n",
    "        fps = min_fps\n",
    "        if for_infernece:\n",
    "            if \"aria\" in video_file.lower():\n",
    "                duration = get_video_duration(source_dir, video_file)\n",
    "            fps = get_frame_rate(source_dir, video_file)\n",
    "        process_video(source_dir, output_dir, video_file, overwrite, duration, fps, w=min_w, h=min_h)"
   ]
  }
 ],
 "metadata": {
  "kernelspec": {
   "display_name": "BehavTrack",
   "language": "python",
   "name": "python3"
  },
  "language_info": {
   "codemirror_mode": {
    "name": "ipython",
    "version": 3
   },
   "file_extension": ".py",
   "mimetype": "text/x-python",
   "name": "python",
   "nbconvert_exporter": "python",
   "pygments_lexer": "ipython3",
   "version": "3.10.16"
  }
 },
 "nbformat": 4,
 "nbformat_minor": 2
}
