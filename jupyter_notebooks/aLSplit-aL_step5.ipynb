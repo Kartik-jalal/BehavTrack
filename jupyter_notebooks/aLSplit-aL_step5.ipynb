{
 "cells": [
  {
   "cell_type": "markdown",
   "metadata": {},
   "source": [
    "# Libraries"
   ]
  },
  {
   "cell_type": "code",
   "execution_count": null,
   "metadata": {},
   "outputs": [],
   "source": [
    "import os\n",
    "import shutil\n",
    "import json\n",
    "from sklearn.model_selection import train_test_split\n",
    "from collections import Counter"
   ]
  },
  {
   "cell_type": "markdown",
   "metadata": {},
   "source": [
    "# Helper Functions"
   ]
  },
  {
   "cell_type": "code",
   "execution_count": null,
   "metadata": {},
   "outputs": [],
   "source": [
    "def load_metadata(source_dir, metadata_filename):\n",
    "    metadata_filePath = os.path.join(source_dir, metadata_filename)\n",
    "\n",
    "    with open(metadata_filePath, 'r') as f:\n",
    "        return json.load(f)"
   ]
  },
  {
   "cell_type": "code",
   "execution_count": null,
   "metadata": {},
   "outputs": [],
   "source": [
    "def performSplit(metadata, split_ratio):\n",
    "    clusters = [entry['cluster'] for entry in metadata]\n",
    "    \n",
    "    activeLearning_data, prediction_data = train_test_split(\n",
    "        metadata,\n",
    "        test_size=split_ratio,\n",
    "        random_state=42,\n",
    "        stratify=clusters  # stratify \n",
    "        )\n",
    "    \n",
    "    return activeLearning_data, prediction_data"
   ]
  },
  {
   "cell_type": "code",
   "execution_count": null,
   "metadata": {},
   "outputs": [],
   "source": [
    "def getCluster_ratio(data):\n",
    "    # Count the number of frames per cluster\n",
    "    cluster_counts = Counter(entry['cluster'] for entry in data)\n",
    "    # Calculate total number of frames\n",
    "    total_frames = len(data)\n",
    "    # Print cluster percentages\n",
    "    for cluster_id, count in cluster_counts.items():\n",
    "        percentage = (count / total_frames) * 100\n",
    "        print(f\"Cluster {cluster_id}: {count} frames ({percentage:.2f}%)\")"
   ]
  },
  {
   "cell_type": "code",
   "execution_count": null,
   "metadata": {},
   "outputs": [],
   "source": [
    "def printDetails(metadata, split_data):\n",
    "    print(\"#############\")\n",
    "    print(f\"Total frames: {len(metadata)}\")\n",
    "    getCluster_ratio(metadata)\n",
    "    print(\"\\t#############\")\n",
    "    for split in split_data:\n",
    "        percentage = (len(split[1][0])/len(metadata))*100\n",
    "        print(f\"{split[0][1]} split: {len(split[1][0])} ({percentage:.2f}%)\")\n",
    "        getCluster_ratio(split[1][0])\n",
    "        print(\"\\t#############\")"
   ]
  },
  {
   "cell_type": "code",
   "execution_count": null,
   "metadata": {},
   "outputs": [],
   "source": [
    "def save_metadata(output_dir, metadata_filename, metadata):\n",
    "    metadata_outFilePath = os.path.join(output_dir, metadata_filename)\n",
    "\n",
    "    with open(metadata_outFilePath, 'w') as f:\n",
    "        json.dump(metadata, f, indent=4)"
   ]
  },
  {
   "cell_type": "code",
   "execution_count": null,
   "metadata": {},
   "outputs": [],
   "source": [
    "def copyframes(split):\n",
    "    # destination path for the split frame\n",
    "    out_path = os.path.join(split[2][1], split[0][0])\n",
    "    os.makedirs(out_path, exist_ok=True)\n",
    "    # save the metadata at the output\n",
    "    save_metadata(split[2][1], split[0][1], split[1][0])\n",
    "\n",
    "    if split[1][1]:\n",
    "        for data in split[1][0]:\n",
    "            frame_name = os.path.basename(data['image_path'])\n",
    "            # src frame path\n",
    "            src_framePath = os.path.join(split[2][0], frame_name)\n",
    "            out_framePath = os.path.join(out_path, frame_name)\n",
    "            # copy\n",
    "            shutil.copy2(src_framePath, out_framePath)\n",
    "\n",
    "    print(f\"Copy complete for the split {split[0][1]} with images - {split[1][1]}\")"
   ]
  },
  {
   "cell_type": "markdown",
   "metadata": {},
   "source": [
    "# Main()"
   ]
  },
  {
   "cell_type": "code",
   "execution_count": 24,
   "metadata": {},
   "outputs": [],
   "source": [
    "source_dir = \"/mnt/c/Users/karti/chest/CNR/projects/data/neurocig/frames\"\n",
    "output_dir = \"/mnt/c/Users/karti/chest/CNR/projects/data/neurocig/stratifySplit_frames\"\n",
    "activeLearning_dir = \"/mnt/c/Users/karti/chest/CNR/projects/data/neurocig/stratifySplit_frames/activeLearning\"\n",
    "annotations_metadata_filename = \"annotations_metadata.json\"\n",
    "aL_metadata_filename = \"activeLearning.json\""
   ]
  },
  {
   "cell_type": "code",
   "execution_count": 25,
   "metadata": {},
   "outputs": [],
   "source": [
    "annotations_metadata = load_metadata(activeLearning_dir, annotations_metadata_filename)\n",
    "# load the active learning frames metadata\n",
    "activeLearning_metadata = load_metadata(activeLearning_dir, aL_metadata_filename)"
   ]
  },
  {
   "cell_type": "code",
   "execution_count": 34,
   "metadata": {},
   "outputs": [
    {
     "name": "stdout",
     "output_type": "stream",
     "text": [
      "#############\n",
      "Total frames: 132\n",
      "Cluster 3: 12 frames (9.09%)\n",
      "Cluster 2: 21 frames (15.91%)\n",
      "Cluster 0: 30 frames (22.73%)\n",
      "Cluster 4: 18 frames (13.64%)\n",
      "Cluster 5: 26 frames (19.70%)\n",
      "Cluster 1: 7 frames (5.30%)\n",
      "Cluster 6: 13 frames (9.85%)\n",
      "Cluster 7: 5 frames (3.79%)\n",
      "\t#############\n",
      "train.json split: 112 (84.85%)\n",
      "Cluster 5: 22 frames (19.64%)\n",
      "Cluster 0: 26 frames (23.21%)\n",
      "Cluster 2: 18 frames (16.07%)\n",
      "Cluster 6: 11 frames (9.82%)\n",
      "Cluster 4: 15 frames (13.39%)\n",
      "Cluster 1: 6 frames (5.36%)\n",
      "Cluster 3: 10 frames (8.93%)\n",
      "Cluster 7: 4 frames (3.57%)\n",
      "\t#############\n",
      "val.json split: 20 (15.15%)\n",
      "Cluster 4: 3 frames (15.00%)\n",
      "Cluster 1: 1 frames (5.00%)\n",
      "Cluster 0: 4 frames (20.00%)\n",
      "Cluster 2: 3 frames (15.00%)\n",
      "Cluster 5: 4 frames (20.00%)\n",
      "Cluster 3: 2 frames (10.00%)\n",
      "Cluster 6: 2 frames (10.00%)\n",
      "Cluster 7: 1 frames (5.00%)\n",
      "\t#############\n"
     ]
    }
   ],
   "source": [
    "split_ratio_annotation = 0.15\n",
    "\n",
    "# train val split\n",
    "train_metadata, val_metadata = performSplit(annotations_metadata, split_ratio_annotation)\n",
    "\n",
    "split_data_train = (\n",
    "        ('train', 'train.json'),\n",
    "        (train_metadata, False),\n",
    "        (source_dir, activeLearning_dir)\n",
    "    )\n",
    "\n",
    "split_data_val =   (\n",
    "        ('val', 'val.json'),\n",
    "        (val_metadata, False),\n",
    "        (source_dir, activeLearning_dir)\n",
    "    )\n",
    "\n",
    "printDetails(annotations_metadata, [split_data_train, split_data_val])"
   ]
  },
  {
   "cell_type": "code",
   "execution_count": 35,
   "metadata": {},
   "outputs": [
    {
     "name": "stdout",
     "output_type": "stream",
     "text": [
      "#############\n",
      "Total frames: 1567\n",
      "Cluster 3: 133 frames (8.49%)\n",
      "Cluster 5: 317 frames (20.23%)\n",
      "Cluster 2: 248 frames (15.83%)\n",
      "Cluster 4: 217 frames (13.85%)\n",
      "Cluster 6: 162 frames (10.34%)\n",
      "Cluster 7: 65 frames (4.15%)\n",
      "Cluster 0: 350 frames (22.34%)\n",
      "Cluster 1: 75 frames (4.79%)\n",
      "\t#############\n",
      "activeLearning.json split: 1527 (97.45%)\n",
      "Cluster 5: 309 frames (20.24%)\n",
      "Cluster 2: 242 frames (15.85%)\n",
      "Cluster 0: 341 frames (22.33%)\n",
      "Cluster 6: 158 frames (10.35%)\n",
      "Cluster 3: 130 frames (8.51%)\n",
      "Cluster 7: 63 frames (4.13%)\n",
      "Cluster 1: 73 frames (4.78%)\n",
      "Cluster 4: 211 frames (13.82%)\n",
      "\t#############\n",
      "predict.json split: 40 (2.55%)\n",
      "Cluster 4: 6 frames (15.00%)\n",
      "Cluster 3: 3 frames (7.50%)\n",
      "Cluster 5: 8 frames (20.00%)\n",
      "Cluster 0: 9 frames (22.50%)\n",
      "Cluster 1: 2 frames (5.00%)\n",
      "Cluster 6: 4 frames (10.00%)\n",
      "Cluster 2: 6 frames (15.00%)\n",
      "Cluster 7: 2 frames (5.00%)\n",
      "\t#############\n"
     ]
    }
   ],
   "source": [
    "prediction_percentage = 30\n",
    "nOf_annotations = float((prediction_percentage*len(annotations_metadata))/100)\n",
    "split_ratio_predict = round(((nOf_annotations/len(activeLearning_metadata))*100)/100, 3)\n",
    "\n",
    "# annotation split\n",
    "activeLearning_metadata_updated, predict_metadata = performSplit(activeLearning_metadata, split_ratio_predict)\n",
    "\n",
    "split_data_aL = (\n",
    "        ('activeLearning', 'activeLearning.json'),\n",
    "        (activeLearning_metadata_updated, False),\n",
    "        (source_dir, output_dir)\n",
    "    )\n",
    "\n",
    "split_data_predict =   (\n",
    "        ('predict', 'predict.json'),\n",
    "        (predict_metadata, True),\n",
    "        (source_dir, activeLearning_dir)\n",
    "    )\n",
    "\n",
    "printDetails(activeLearning_metadata, [split_data_aL, split_data_predict])"
   ]
  },
  {
   "cell_type": "code",
   "execution_count": 36,
   "metadata": {},
   "outputs": [
    {
     "name": "stdout",
     "output_type": "stream",
     "text": [
      "Copy complete for the split activeLearning.json with images - False\n",
      "Copy complete for the split train.json with images - False\n",
      "Copy complete for the split val.json with images - False\n",
      "Copy complete for the split predict.json with images - True\n"
     ]
    }
   ],
   "source": [
    "split_data_is = [split_data_aL, split_data_train, split_data_val, split_data_predict]\n",
    "\n",
    "for split in split_data_is:\n",
    "    copyframes(split)"
   ]
  }
 ],
 "metadata": {
  "kernelspec": {
   "display_name": "BehavTrack",
   "language": "python",
   "name": "python3"
  },
  "language_info": {
   "codemirror_mode": {
    "name": "ipython",
    "version": 3
   },
   "file_extension": ".py",
   "mimetype": "text/x-python",
   "name": "python",
   "nbconvert_exporter": "python",
   "pygments_lexer": "ipython3",
   "version": "3.10.16"
  }
 },
 "nbformat": 4,
 "nbformat_minor": 2
}
