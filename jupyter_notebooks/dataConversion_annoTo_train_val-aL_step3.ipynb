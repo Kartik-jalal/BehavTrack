{
 "cells": [
  {
   "cell_type": "markdown",
   "metadata": {},
   "source": [
    "# Libraries"
   ]
  },
  {
   "cell_type": "code",
   "execution_count": null,
   "metadata": {},
   "outputs": [],
   "source": [
    "import os\n",
    "import shutil\n",
    "import json\n",
    "from PIL import Image"
   ]
  },
  {
   "cell_type": "markdown",
   "metadata": {},
   "source": [
    "# Helper Functions"
   ]
  },
  {
   "cell_type": "code",
   "execution_count": null,
   "metadata": {},
   "outputs": [],
   "source": [
    "def load_metadata(source_dir, metadata_filename):\n",
    "    metadata_filePath = os.path.join(source_dir, metadata_filename)\n",
    "\n",
    "    with open(metadata_filePath, 'r') as f:\n",
    "        return json.load(f)"
   ]
  },
  {
   "cell_type": "code",
   "execution_count": null,
   "metadata": {},
   "outputs": [],
   "source": [
    "def copyframes_train_val(currentFrame_path, destination_dir):\n",
    "    os.makedirs(destination_dir, exist_ok=True)\n",
    "    shutil.copy2(currentFrame_path, destination_dir)"
   ]
  },
  {
   "cell_type": "code",
   "execution_count": null,
   "metadata": {},
   "outputs": [],
   "source": [
    "def get_image_size(image_path):\n",
    "    with Image.open(image_path) as img:\n",
    "        return img.width, img.height"
   ]
  },
  {
   "cell_type": "code",
   "execution_count": null,
   "metadata": {},
   "outputs": [],
   "source": [
    "def create_yolo_bBox_labels(annotation_bBox_info, frame_w, frame_h, class_label):\n",
    "    yolo_bBox_label = []\n",
    "    for bBox_info in annotation_bBox_info:\n",
    "        bBox = bBox_info['bbox']\n",
    "\n",
    "        x1, y1 = bBox[\"x1\"], bBox[\"y1\"]\n",
    "        x2, y2 = bBox[\"x2\"], bBox[\"y2\"]\n",
    "\n",
    "        # Convert to YOLO\n",
    "        bBox_w = x2 - x1\n",
    "        bBox_h = y2 - y1\n",
    "        x_center = x1 + bBox_w / 2.0\n",
    "        y_center = y1 + bBox_h / 2.0\n",
    "        \n",
    "        # Normalize\n",
    "        x_center_norm = x_center / frame_w\n",
    "        y_center_norm = y_center / frame_h\n",
    "        w_norm = bBox_w / frame_w\n",
    "        h_norm = bBox_h / frame_h\n",
    "        \n",
    "        # class_id, x_c, y_c, w, h\n",
    "        yolo_line = f\"{class_label} {x_center_norm:.6f} {y_center_norm:.6f} {w_norm:.6f} {h_norm:.6f}\"\n",
    "        \n",
    "        for keypoint in bBox_info['keypoints'].values():\n",
    "            kp_x = keypoint[0]/frame_w\n",
    "            kp_y = keypoint[1]/frame_h\n",
    "            kp_v = keypoint[2]\n",
    "\n",
    "            keypoint_line = f\" {kp_x:.6f} {kp_y:.6f} {kp_v}\"\n",
    "\n",
    "            yolo_line += keypoint_line\n",
    "        \n",
    "        yolo_bBox_label.append(yolo_line)\n",
    "        \n",
    "    return yolo_bBox_label\n"
   ]
  },
  {
   "cell_type": "code",
   "execution_count": null,
   "metadata": {},
   "outputs": [],
   "source": [
    "def save_yolo_label(t_v_images_dir, frame_name, yolo_bBox_labels):\n",
    "    os.makedirs(t_v_images_dir, exist_ok=True)\n",
    "    t_v_label_filename = os.path.join(t_v_images_dir, frame_name.replace(\"jpg\", \"txt\"))\n",
    "\n",
    "    with open(t_v_label_filename, 'w') as txt_out:\n",
    "        txt_out.write(\"\\n\".join(yolo_bBox_labels))"
   ]
  },
  {
   "cell_type": "code",
   "execution_count": null,
   "metadata": {},
   "outputs": [],
   "source": [
    "def prepare_train_val(t_v_dir, annotations_dir, frame_name, annotation_info):\n",
    "    t_v_images_dir = os.path.join(t_v_dir, \"images\")\n",
    "    currentFrame_path = os.path.join(annotations_dir, frame_name)\n",
    "    copyframes_train_val(currentFrame_path, t_v_images_dir)\n",
    "\n",
    "    frame_w, frame_h = get_image_size(currentFrame_path)\n",
    "    mouse_class_label = 0\n",
    "    yolo_bBox_labels = create_yolo_bBox_labels(annotation_info,  frame_w, frame_h, mouse_class_label)\n",
    "    save_yolo_label(t_v_images_dir, frame_name, yolo_bBox_labels)"
   ]
  },
  {
   "cell_type": "markdown",
   "metadata": {},
   "source": [
    "# Main\n",
    "\n",
    "Data Conversion: Annotations to train and val"
   ]
  },
  {
   "cell_type": "code",
   "execution_count": null,
   "metadata": {},
   "outputs": [],
   "source": [
    "# dirs' path\n",
    "source_dir = \"/mnt/c/Users/karti/chest/CNR/projects/data/neurocig/frames\"\n",
    "output_dir = \"/mnt/c/Users/karti/chest/CNR/projects/data/neurocig/stratifySplit_frames\"\n",
    "activeLearning_dir = \"/mnt/c/Users/karti/chest/CNR/projects/data/neurocig/stratifySplit_frames/activeLearning\""
   ]
  },
  {
   "cell_type": "code",
   "execution_count": null,
   "metadata": {},
   "outputs": [],
   "source": [
    "train_dir = os.path.join(activeLearning_dir, \"train\")\n",
    "train_json = \"train.json\"\n",
    "val_dir = os.path.join(activeLearning_dir, \"val\")\n",
    "val_json = \"val.json\"\n",
    "\n",
    "# path to manual annotated frames and its json\n",
    "annotations_dir = os.path.join(activeLearning_dir, \"annotations\")\n",
    "annotation_json = \"annotation.json\""
   ]
  },
  {
   "cell_type": "code",
   "execution_count": null,
   "metadata": {},
   "outputs": [],
   "source": [
    "# manually annotated json\n",
    "mAnnotated_json = load_metadata(annotations_dir, annotation_json)\n",
    "\n",
    "# train and val frame metadata\n",
    "train_metadata = load_metadata(train_dir, train_json)\n",
    "val_metadata = load_metadata(val_dir, val_json)"
   ]
  },
  {
   "cell_type": "code",
   "execution_count": null,
   "metadata": {},
   "outputs": [],
   "source": [
    "for frame_name, annotation_info in mAnnotated_json.items():\n",
    "    for train_frame in train_metadata:\n",
    "        if frame_name in train_frame['image_path']:\n",
    "            prepare_train_val(train_dir, annotations_dir, frame_name, annotation_info)\n",
    "            \n",
    "    \n",
    "    for val_frame in val_metadata:\n",
    "        if frame_name in val_frame['image_path']:\n",
    "            prepare_train_val(val_dir, annotations_dir, frame_name, annotation_info)"
   ]
  }
 ],
 "metadata": {
  "kernelspec": {
   "display_name": "BehavTrack",
   "language": "python",
   "name": "python3"
  },
  "language_info": {
   "name": "python",
   "version": "3.10.16"
  }
 },
 "nbformat": 4,
 "nbformat_minor": 2
}
