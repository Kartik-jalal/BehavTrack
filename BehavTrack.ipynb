{
 "cells": [
  {
   "cell_type": "markdown",
   "metadata": {},
   "source": [
    "# Libraries"
   ]
  },
  {
   "cell_type": "code",
   "execution_count": 8,
   "metadata": {},
   "outputs": [],
   "source": [
    "import os\n",
    "import shutil\n",
    "import ffmpeg"
   ]
  },
  {
   "cell_type": "markdown",
   "metadata": {},
   "source": [
    "# Helper functions"
   ]
  },
  {
   "cell_type": "code",
   "execution_count": null,
   "metadata": {},
   "outputs": [],
   "source": [
    "def copy_videos(source_dir, destination_dir, overwrite=True):\n",
    "    \"\"\"Copy 'pre' eCig and Cig videos from source directory to destination directory.\"\"\"\n",
    "    os.makedirs(destination_dir, exist_ok=True)\n",
    "\n",
    "    # Initialize counters\n",
    "    cig = 0\n",
    "    eCig = 0\n",
    "    total = 0\n",
    "\n",
    "    print(\"Copying eCig and Cig 'pre' videos.\")\n",
    "\n",
    "    # Validate if source directory exists\n",
    "    if not os.path.exists(source_dir):\n",
    "        print(f\"Error: Source directory '{source_dir}' does not exist.\")\n",
    "        return\n",
    "\n",
    "    # Get existing files in the destination directory (for faster lookup)\n",
    "    existing_files = set(os.listdir(destination_dir))\n",
    "\n",
    "    # Iterate over files in the source directory\n",
    "    for video_file in os.listdir(source_dir):\n",
    "        full_source_path = os.path.join(source_dir, video_file)\n",
    "\n",
    "        # Count total .mp4 files\n",
    "        if video_file.endswith(\".mp4\"):\n",
    "            total += 1\n",
    "\n",
    "        # Skip if the file already exists in the destination and `overwrite` is False\n",
    "        if not(overwrite) and (video_file in existing_files):\n",
    "            continue\n",
    "\n",
    "        # Check if it's a valid file and matches the criteria\n",
    "        if os.path.isfile(full_source_path) and \"pre\" in video_file.lower():\n",
    "            if \"ecig\" in video_file.lower():\n",
    "                eCig += 1\n",
    "            elif \"cig\" in video_file.lower():\n",
    "                cig += 1\n",
    "            else:\n",
    "                continue\n",
    "\n",
    "            # Copy file to the destination directory\n",
    "            shutil.copy(full_source_path, destination_dir)\n",
    "\n",
    "    print(f\"Copy complete!\\n\\t eCig pre: {eCig}, Cig pre: {cig}. Total: {eCig + cig} out of {total}\")\n",
    "\n",
    "\n",
    "def process_video(input_dir, output_dir, video_file, overwrite=True, duration=900, gamma=1.2):\n",
    "    \"\"\"Trim video and apply gamma correction in one step using ffmpeg-python.\"\"\"\n",
    "    \n",
    "    # Ensure valid gamma value\n",
    "    if gamma <= 0:\n",
    "        raise ValueError(f\"Gamma value must be > 0. Provided: {gamma}\")\n",
    "\n",
    "    # Define input and output paths\n",
    "    input_path = os.path.join(input_dir, video_file)\n",
    "    output_path = os.path.join(output_dir, video_file)\n",
    "\n",
    "    # Check if file already exists and skip if flag is True\n",
    "    if not(overwrite) and (os.path.exists(output_path)):\n",
    "        print(f\"Skipping {video_file}: already exists in {output_dir}.\")\n",
    "        return\n",
    "\n",
    "    print(f\"Processing video: {input_path}\")\n",
    "    \n",
    "    try:\n",
    "        # Trim and apply gamma correction in one step\n",
    "        print(f\"\\tTrimming to {duration} seconds and applying gamma correction with gamma={gamma}.\")\n",
    "        (\n",
    "            ffmpeg\n",
    "            .input(input_path, t=duration)  # Trim video to specified duration\n",
    "            .filter('eq', gamma=gamma)           # Apply gamma correction\n",
    "            .output(output_path, vcodec=\"libx264\", acodec=\"aac\")  # Save with re-encoding\n",
    "            .run(overwrite_output=True)          # Overwrite output file if it exists\n",
    "        )\n",
    "        print(f\"\\tProcessing completed -> {output_path}\")\n",
    "        \n",
    "    except ffmpeg.Error as e:\n",
    "        print(f\"Error processing {video_file}: {e.stderr.decode()}\")\n",
    "    except Exception as e:\n",
    "        print(f\"Unexpected error processing {video_file}: {e}\")\n"
   ]
  },
  {
   "cell_type": "markdown",
   "metadata": {},
   "source": [
    "# Data Gathering & Video Preprocessing"
   ]
  },
  {
   "cell_type": "code",
   "execution_count": null,
   "metadata": {},
   "outputs": [],
   "source": [
    "# Copy the right videos from the source directory\n",
    "source_dir = \"/mnt/olimpo1/neurocig/data\"\n",
    "destination_dir = \"/home/jalal/projects/neurocig/data/vids/raw\"\n",
    "\n",
    "copy_videos(source_dir, destination_dir, overwrite=False)"
   ]
  },
  {
   "cell_type": "code",
   "execution_count": null,
   "metadata": {},
   "outputs": [],
   "source": [
    "# Video pre-processing \n",
    "input_dir = \"/home/jalal/projects/neurocig/data/vids/raw\"\n",
    "output_dir = \"/home/jalal/projects/neurocig/data/vids/processed\"\n",
    "os.makedirs(output_dir, exist_ok=True)\n",
    "\n",
    "for video_file in os.listdir(input_dir):\n",
    "    if video_file.endswith('.mp4'):\n",
    "        process_video(input_dir, output_dir, video_file, overwrite=False)"
   ]
  }
 ],
 "metadata": {
  "kernelspec": {
   "display_name": "BehavTrack",
   "language": "python",
   "name": "python3"
  },
  "language_info": {
   "codemirror_mode": {
    "name": "ipython",
    "version": 3
   },
   "file_extension": ".py",
   "mimetype": "text/x-python",
   "name": "python",
   "nbconvert_exporter": "python",
   "pygments_lexer": "ipython3",
   "version": "3.10.16"
  }
 },
 "nbformat": 4,
 "nbformat_minor": 2
}
