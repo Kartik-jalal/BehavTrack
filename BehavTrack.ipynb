{
 "cells": [
  {
   "cell_type": "markdown",
   "metadata": {},
   "source": [
    "# Libraries"
   ]
  },
  {
   "cell_type": "code",
   "execution_count": 4,
   "metadata": {},
   "outputs": [],
   "source": [
    "import os\n",
    "import shutil\n",
    "import ffmpeg"
   ]
  },
  {
   "cell_type": "markdown",
   "metadata": {},
   "source": [
    "# Helper functions"
   ]
  },
  {
   "cell_type": "code",
   "execution_count": null,
   "metadata": {},
   "outputs": [],
   "source": [
    "def copy_videos(source_dir, destination_dir):\n",
    "    \"\"\"Copying pre eCig's and cig's videos from source directory\"\"\"\n",
    "    os.makedirs(destination_dir, exist_ok=True)\n",
    "\n",
    "    # Initialize counters\n",
    "    cig = 0\n",
    "    eCig = 0\n",
    "    rest = 0\n",
    "\n",
    "    print(\"Copying eCig's and cig's pre videos.\")\n",
    "\n",
    "    # Validate if source directory exists\n",
    "    if not os.path.exists(source_dir):\n",
    "        print(f\"Error: Source directory '{source_dir}' does not exist.\")\n",
    "        exit(1)\n",
    "\n",
    "    # Iterate over files in the source directory\n",
    "    for video_file in os.listdir(source_dir):\n",
    "        full_source_path = os.path.join(source_dir, video_file)\n",
    "\n",
    "        # Check if it's a file and matches the criteria\n",
    "        if os.path.isfile(full_source_path) and \"-pre\" in video_file:\n",
    "            if \"-eCig\" in video_file:\n",
    "                eCig += 1\n",
    "            elif \"-cig\" in video_file:\n",
    "                cig += 1\n",
    "            else:\n",
    "                rest += 1\n",
    "                continue  # Skip files that don't match '-eCig' or '-cig'\n",
    "\n",
    "            # Copy file to the destination directory\n",
    "            shutil.copy(full_source_path, destination_dir)\n",
    "\n",
    "    print(f\"Copy complete!\\n\\t eCig pre: {eCig}, cig pre: {cig}. Total: {eCig + cig} out of {eCig + cig + rest}\")\n",
    "\n",
    "\n",
    "def process_video(input_path, output_path, duration=900, gamma=1.2):\n",
    "    \"\"\"Trim video and apply gamma correction in one step using ffmpeg-python.\"\"\"\n",
    "    print(f\"Processing video: {input_path}\")\n",
    "    \n",
    "    try:\n",
    "        # Trim and apply gamma correction in one step\n",
    "        print(f\"\\tTrimming to {duration} seconds and applying gamma correction with gamma={gamma}.\")\n",
    "        (\n",
    "            ffmpeg.input(input_path, to=duration)  # Trim video to specified duration\n",
    "            .filter('eq', gamma=gamma)     # Apply gamma correction\n",
    "            .output(output_path, vcodec=\"libx264\", acodec=\"aac\")  # Save with re-encoding\n",
    "            .run(overwrite_output=True)    # Overwrite output file if it exists\n",
    "        )\n",
    "        print(f\"\\tProcessing completed -> {output_path}\")\n",
    "        \n",
    "    except ffmpeg.Error as e:\n",
    "        print(f\"Error during processing: {e.stderr.decode()}\")\n",
    "    except Exception as e:\n",
    "        print(f\"Unexpected error: {e}\")"
   ]
  },
  {
   "cell_type": "markdown",
   "metadata": {},
   "source": [
    "# Data Gathering & Video Preprocessing"
   ]
  },
  {
   "cell_type": "code",
   "execution_count": null,
   "metadata": {},
   "outputs": [],
   "source": [
    "# Define source and destination directories\n",
    "source_dir = \"\"\n",
    "destination_dir = \"\"\n",
    "\n",
    "copy_videos(source_dir, destination_dir)"
   ]
  },
  {
   "cell_type": "code",
   "execution_count": null,
   "metadata": {},
   "outputs": [],
   "source": [
    "# Directory processing\n",
    "input_dir = \"\"\n",
    "output_dir = \"\"\n",
    "os.makedirs(output_dir, exist_ok=True)\n",
    "\n",
    "for video_file in os.listdir(input_dir):\n",
    "    if video_file.endswith('.mp4'):\n",
    "        input_path = os.path.join(input_dir, video_file)\n",
    "        output_path = os.path.join(output_dir, video_file)\n",
    "        process_video(input_path, output_path)"
   ]
  }
 ],
 "metadata": {
  "kernelspec": {
   "display_name": "BehavTrack",
   "language": "python",
   "name": "python3"
  },
  "language_info": {
   "codemirror_mode": {
    "name": "ipython",
    "version": 3
   },
   "file_extension": ".py",
   "mimetype": "text/x-python",
   "name": "python",
   "nbconvert_exporter": "python",
   "pygments_lexer": "ipython3",
   "version": "3.10.16"
  }
 },
 "nbformat": 4,
 "nbformat_minor": 2
}
