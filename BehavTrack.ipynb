{
 "cells": [
  {
   "cell_type": "markdown",
   "metadata": {},
   "source": [
    "# Libraries"
   ]
  },
  {
   "cell_type": "code",
   "execution_count": 1,
   "metadata": {},
   "outputs": [],
   "source": [
    "import os\n",
    "import shutil\n",
    "import ffmpeg"
   ]
  },
  {
   "cell_type": "markdown",
   "metadata": {},
   "source": [
    "# Helper functions"
   ]
  },
  {
   "cell_type": "code",
   "execution_count": 32,
   "metadata": {},
   "outputs": [],
   "source": [
    "def copy_videos(source_dir, destination_dir, overwrite=True):\n",
    "    \"\"\"Copy 'pre' eCig and Cig videos from source directory to destination directory.\"\"\"\n",
    "    os.makedirs(destination_dir, exist_ok=True)\n",
    "\n",
    "    # Initialize counters\n",
    "    cig = 0\n",
    "    eCig = 0\n",
    "    total = 0\n",
    "\n",
    "    print(\"Copying eCig and Cig 'pre' videos.\")\n",
    "\n",
    "    # Validate if source directory exists\n",
    "    if not os.path.exists(source_dir):\n",
    "        print(f\"Error: Source directory '{source_dir}' does not exist.\")\n",
    "        return\n",
    "\n",
    "    # Get existing files in the destination directory (for faster lookup)\n",
    "    existing_files = set(os.listdir(destination_dir))\n",
    "\n",
    "    # Iterate over files in the source directory\n",
    "    for video_file in os.listdir(source_dir):\n",
    "        full_source_path = os.path.join(source_dir, video_file)\n",
    "\n",
    "        # Count total .mp4 files\n",
    "        if video_file.endswith(\".mp4\"):\n",
    "            total += 1\n",
    "\n",
    "        # Skip if the file already exists in the destination and `overwrite` is False\n",
    "        if not(overwrite) and (video_file in existing_files):\n",
    "            continue\n",
    "\n",
    "        # Check if it's a valid file and matches the criteria\n",
    "        if os.path.isfile(full_source_path) and \"pre\" in video_file.lower():\n",
    "            if \"ecig\" in video_file.lower():\n",
    "                eCig += 1\n",
    "            elif \"cig\" in video_file.lower():\n",
    "                cig += 1\n",
    "            else:\n",
    "                continue\n",
    "\n",
    "            # Copy file to the destination directory\n",
    "            shutil.copy(full_source_path, destination_dir)\n",
    "\n",
    "    print(f\"Copy complete!\\n\\t eCig pre: {eCig}, Cig pre: {cig}. Total: {eCig + cig} out of {total}\")\n",
    "\n",
    "\n",
    "def process_video(input_dir, output_dir, video_file, overwrite=True, duration=900):\n",
    "    \"\"\"Trim video, apply uniform gamma correction and brightness adjustment, convert to grayscale.\"\"\"\n",
    "    \n",
    "    # Define input and output paths\n",
    "    input_path = os.path.join(input_dir, video_file)\n",
    "    output_path = os.path.join(output_dir, video_file)\n",
    "\n",
    "    # Check if file already exists and skip if overwrite is False\n",
    "    if not overwrite and os.path.exists(output_path):\n",
    "        print(f\"Skipping {video_file}: already exists in {output_dir}.\")\n",
    "        return\n",
    "\n",
    "    try:\n",
    "        # Apply gamma correction, brightness, contrast adjustments, and convert to grayscale\n",
    "        print(\"\\tApplying gamma correction, brightness normalization, and converting to grayscale.\")\n",
    "        (\n",
    "            ffmpeg\n",
    "            .input(input_path, t=duration, hwaccel=\"cuda\")  # Trim video to specified duration and hardware acceleration using the gpu\n",
    "            .filter('format', 'gray')  # convert video to grayscale\n",
    "            .filter('eq', gamma=1.8, brightness=0.17, contrast=1.3)  # EQ Adjustments\n",
    "            .filter('scale', 'iw', 'ih', flags='lanczos')  # Clamp pixel values\n",
    "            .output(output_path, vcodec=\"hevc_nvenc\")  # nvidia vcodec\n",
    "            .run(overwrite_output=True)\n",
    "        )\n",
    "        print(f\"\\tProcessing completed -> {output_path}\")\n",
    "\n",
    "    except ffmpeg.Error as e:\n",
    "        print(f\"Error processing {video_file}: {e.stderr.decode()}\")\n",
    "    except Exception as e:\n",
    "        print(f\"Unexpected error processing {video_file}: {e}\")"
   ]
  },
  {
   "cell_type": "markdown",
   "metadata": {},
   "source": [
    "# Data Gathering & Video Preprocessing"
   ]
  },
  {
   "cell_type": "code",
   "execution_count": null,
   "metadata": {},
   "outputs": [],
   "source": [
    "# Copy the right videos from the source directory\n",
    "source_dir = \"/mnt/olimpo1/neurocig/data\"\n",
    "destination_dir = \"/home/jalal/projects/neurocig/data/vids/raw\"\n",
    "\n",
    "copy_videos(source_dir, destination_dir, overwrite=False)"
   ]
  },
  {
   "cell_type": "code",
   "execution_count": null,
   "metadata": {},
   "outputs": [],
   "source": [
    "# Video pre-processing \n",
    "input_dir = \"/home/jalal/projects/neurocig/data/vids/processed/test\"\n",
    "output_dir = \"/home/jalal/projects/neurocig/data/vids/processed/test/hist_tk\"\n",
    "os.makedirs(output_dir, exist_ok=True)\n",
    "\n",
    "\n",
    "for video_file in os.listdir(input_dir):\n",
    "    if video_file.endswith('.mp4'):\n",
    "        process_video(input_dir, output_dir, video_file)"
   ]
  }
 ],
 "metadata": {
  "kernelspec": {
   "display_name": "BehavTrack",
   "language": "python",
   "name": "python3"
  },
  "language_info": {
   "codemirror_mode": {
    "name": "ipython",
    "version": 3
   },
   "file_extension": ".py",
   "mimetype": "text/x-python",
   "name": "python",
   "nbconvert_exporter": "python",
   "pygments_lexer": "ipython3",
   "version": "3.10.16"
  }
 },
 "nbformat": 4,
 "nbformat_minor": 2
}
